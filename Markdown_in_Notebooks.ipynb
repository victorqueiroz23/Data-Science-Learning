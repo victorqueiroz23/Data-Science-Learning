{
 "cells": [
  {
   "cell_type": "markdown",
   "id": "f72bae23-c2a8-46f1-a25c-4d9371f1564f",
   "metadata": {},
   "source": [
    "# <center> Introdução a Markdown (Jupyter Labs) </center>"
   ]
  },
  {
   "cell_type": "markdown",
   "id": "e90d371d-4043-4108-921f-a6c1dfb70577",
   "metadata": {},
   "source": [
    "#### Para escrever células de comentários em Jupyter, primeiro temos que definir o tipo de célula que escreveremos como <b>\"Markdown\"</b>\n",
    "1. \"#\" + espaço + início da escrita\n",
    "2. Quanto mais \"#\" usarmos antes do espaço, menor é a fonte do trecho escrito!\n",
    "3. Podemos usar trechos com tamanhos de fonte diferentes dentro de uma mesma célula\n"
   ]
  },
  {
   "cell_type": "markdown",
   "id": "b46723c9-8f67-438a-934e-a7a86e8272a2",
   "metadata": {},
   "source": [
    "\n",
    "#### Células em markdown obedecem comandos de HTML para manipular a estrutura estética do texto! \n",
    "\n",
    "1. <b> Texto em negrito </b>\n",
    "2. <i> Texto em itálico </i>\n",
    "3. <u> Texto sublinhado </u>\n",
    "4. <h1> Texto gigante </h1>\n",
    "5. <h2> Texto grande </h2>\n",
    "6. <h3> Texto médio </h3>\n",
    "7. <h4> Texto pequeno </h4>\n",
    "8. <h5> Texto minúsculo </h5>\n",
    "9. <h3><b><i><u> Texto médio em negrito, itálico e sublinhado!</u></i></b></h3>\n",
    "10. <p> Isso é simplesmente um parágrafo (a letra é mais fina) </p>\n",
    "\n"
   ]
  },
  {
   "cell_type": "markdown",
   "id": "4b986229-8863-4455-928b-931390c2a104",
   "metadata": {},
   "source": [
    "<h4> Podemos escolher onde/como o texto vai se estruturar na página! </h4>\n",
    "\n",
    "1. <p><center>Texto centralizado!</center></p>\n",
    "2. <p>Esse texto terá <br> uma quebra de linha! </p>"
   ]
  },
  {
   "cell_type": "markdown",
   "id": "c46127ba-2242-448f-9a40-4e03c5470cf7",
   "metadata": {},
   "source": [
    "#### Para colocar um link no markdown:\n",
    "<a href=\"https://www.ibm.com\"> Link de exemplo (website da IBM) </a>"
   ]
  },
  {
   "cell_type": "markdown",
   "id": "9471a777-55cf-4ff1-a6cc-9411092d3f9f",
   "metadata": {},
   "source": [
    "#### Criando uma tabela!\n",
    "###### >>> Com links dentro das células!\n",
    "\n",
    "<table >\n",
    "    <tr>\n",
    "        <td>Hotel</td>\n",
    "        <td>Localização</td>\n",
    "        <td>Estrelas</td>\n",
    "    </tr>\n",
    "    <tr>\n",
    "        <td>Ramada</td>\n",
    "        <td><a href = 'https://pt.wikipedia.org/wiki/Recreio_dos_Bandeirantes'> Recreio dos Bandeirantes</a></td>\n",
    "        <td><center> 3 </center></td>\n",
    "    </tr>\n",
    "    <tr>\n",
    "        <td>Windsor</td>\n",
    "        <td><a href ='https://pt.wikipedia.org/wiki/Barra_da_Tijuca'> Barra da Tijuca</a></td>\n",
    "        <td><center> 4 </center></td>\n",
    "    </tr>\n",
    "    <tr>\n",
    "        <td>Hilton</td>\n",
    "        <td>Jacarepaguá/Rio2</td>\n",
    "        <td><center> 5 </center></td>\n",
    "    </tr>\n",
    "</table>"
   ]
  }
 ],
 "metadata": {
  "kernelspec": {
   "display_name": "Python 3",
   "language": "python",
   "name": "python3"
  },
  "language_info": {
   "codemirror_mode": {
    "name": "ipython",
    "version": 3
   },
   "file_extension": ".py",
   "mimetype": "text/x-python",
   "name": "python",
   "nbconvert_exporter": "python",
   "pygments_lexer": "ipython3",
   "version": "3.8.8"
  }
 },
 "nbformat": 4,
 "nbformat_minor": 5
}
