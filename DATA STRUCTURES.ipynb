{
 "cells": [
  {
   "cell_type": "markdown",
   "metadata": {},
   "source": [
    "# <center> Data Structures </center>\n",
    "---\n",
    "### Built-in Types\n",
    "###### https://docs.python.org/3/library/stdtypes.html#dict\n",
    "### collections\n",
    "###### https://docs.python.org/3/library/collections.html#collections\n"
   ]
  },
  {
   "cell_type": "markdown",
   "metadata": {},
   "source": [
    "---\n",
    "### Strings\n",
    "###### https://docs.python.org/3/library/string.html"
   ]
  },
  {
   "cell_type": "code",
   "execution_count": 3,
   "metadata": {},
   "outputs": [],
   "source": [
    "text = '''\n",
    "[insert text here] \n",
    "'''\n",
    "separators = [\" \", \",\", \";\", \"_\", \"-\", \"/\", \"|\"]\n",
    "\n",
    "# object_to_string = str(iterable)\n",
    "\n",
    "# text.lower()  \n",
    "# text.upper() \n",
    "# text.count(\"...\")\n",
    "# text.find(\"...\", index_1, index_N) \n",
    "# text.strip()  \n",
    "# text.rstrip() \n",
    "# text.lstrip()\n",
    "# text.split(sep = \";\")  \n",
    "# text.replace(\"...\", \"...\")\n",
    "# text.startswith(\"...\")  \n",
    "# separator.join(text_1, ..., text_N)"
   ]
  },
  {
   "cell_type": "markdown",
   "metadata": {},
   "source": [
    "---\n",
    "### Lists, Tuples and Sets\n",
    "###### https://docs.python.org/3/tutorial/datastructures.html#data-structures\n",
    "#### list_ = <b>[</b> <i>object_1</i>, ... , <i>object_N</i> <b>]</b>\n",
    "#### tuple_ = <b>(</b> <i>object_1</i>, ... , <i>object_N</i> <b>)</b>\n",
    "#### set_ = <b>{</b> <i>object_1</i>, ... , <i>object_N</i> <b>}</b>\n",
    "\n"
   ]
  },
  {
   "cell_type": "code",
   "execution_count": null,
   "metadata": {},
   "outputs": [],
   "source": [
    "list_ = list()\n",
    "list_N = list()\n",
    "\n",
    "# list_ = []                        # Deleting all terms from list_\n",
    "# element = list_[index]            # Extracting value from position = index \n",
    "# list_1 = list_[:]                 # Copy\n",
    "# slice = list_[index_1:index_N]    # Value with index_N will NOT be extracted!\n",
    "# list_2 = list_ + list_N           # Concatenating lists\n",
    "\n",
    "# object_to_list = list(iterable)\n",
    "\n",
    "# list_.append(object)\n",
    "# list_.insert(index, object)\n",
    "# list_.remove(object)\n",
    "# list_.pop([index])\n",
    "# list_.count(object)\n",
    "# list_.sort(key = None, reverse = False)\n",
    "# sorted_list_ = sorted(list_, reverse = False)\n",
    "# list_.index(object)\n",
    "# list_.extend(iterable)\n",
    "# list_.reverse()\n",
    "# list_.min()\n",
    "# list_.max()\n",
    "# list_.sum()\n",
    "# list_.len()\n",
    "# list_mean = list_.sum() / list_.len()\n",
    "# enumerate(list_)"
   ]
  },
  {
   "cell_type": "code",
   "execution_count": null,
   "metadata": {},
   "outputs": [],
   "source": [
    "tuple_ = tuple()\n",
    "\n",
    "# tuple_[index]\n",
    "# slice = tuple_[index_1:index_N]       # Value with index_N will NOT be extracted!"
   ]
  },
  {
   "cell_type": "code",
   "execution_count": null,
   "metadata": {},
   "outputs": [],
   "source": [
    "set_ = set()\n",
    "set_1 = set()\n",
    "set_2 = set()\n",
    "set_N = set()\n",
    "\n",
    "# sets_intersection = set_ & set_1 & set_2 & set_N\n",
    "\n",
    "# set_.add(object)\n",
    "# set_.remove(object)\n",
    "# set_.union(set_N)        \n",
    "# set_.difference(set_N)\n",
    "# set_.intersection(set_N)\n",
    "# set_.issuperset(set_N)    # set_N must be bigger than set_\n",
    "# set_.issubset(set_N)      # set_N must be smaller than set_"
   ]
  },
  {
   "cell_type": "markdown",
   "metadata": {},
   "source": [
    "---\n",
    "### Dictionaries\n",
    "###### https://www.geeksforgeeks.org/python-dictionary-methods/\n",
    "##### dictionary = <b>{</b> \"Key_1\" : <i>value_1</i>, ... , \"Key_N\" : <i>value_N</i> <b>}</b> "
   ]
  },
  {
   "cell_type": "code",
   "execution_count": null,
   "metadata": {},
   "outputs": [],
   "source": [
    "dict_ = dict()\n",
    "\n",
    "# dict_[\"Key_1\"] = \"value 1\"\n",
    "# dict_[\"Key_N\"] = \"value N\"\n",
    "\n",
    "# dict_.keys()\n",
    "# dict_fromkeys()\n",
    "# dict_.values()\n",
    "# dict_.items()\n",
    "# dict_.pop()\n",
    "# dict_popitem()\n",
    "# dict_.copy()\n",
    "# dict_.clear()\n",
    "# dict_.get(\"Key_X\", 0)     \n",
    "    # \"If Key_X is in the dictionary, get its value. If not, create Key_X and its value is 0\".\n",
    "    # We can use another another value instead of 0.\n",
    "# dict_.update()\n",
    "# dict_.set_default()"
   ]
  },
  {
   "cell_type": "code",
   "execution_count": null,
   "metadata": {},
   "outputs": [],
   "source": [
    "# Histogram of words using dictionaries\n",
    "\n",
    "text = '''\n",
    "[insert text here]\n",
    "'''\n",
    "histogram = dict()\n",
    "words = text.split()\n",
    "\n",
    "for word in words:\n",
    "    histogram[word] = histogram.get(word, 0) + 1\n",
    "\n",
    "#for key, value in histogram.items():\n",
    "#   print(key, value)"
   ]
  },
  {
   "cell_type": "markdown",
   "metadata": {},
   "source": [
    "---\n",
    "# <center> Types of Files </center>"
   ]
  },
  {
   "cell_type": "markdown",
   "metadata": {},
   "source": [
    "### Text"
   ]
  },
  {
   "cell_type": "code",
   "execution_count": null,
   "metadata": {},
   "outputs": [],
   "source": []
  },
  {
   "cell_type": "markdown",
   "metadata": {},
   "source": [
    "### Relational Data \n",
    "    Comma-Separated Values: .csv\n",
    "    Excel: .xlsx or .xls "
   ]
  },
  {
   "cell_type": "code",
   "execution_count": null,
   "metadata": {},
   "outputs": [],
   "source": []
  },
  {
   "cell_type": "markdown",
   "metadata": {},
   "source": [
    "### JSON"
   ]
  },
  {
   "cell_type": "code",
   "execution_count": null,
   "metadata": {},
   "outputs": [],
   "source": []
  },
  {
   "cell_type": "markdown",
   "metadata": {},
   "source": [
    "### PDF\n",
    "###### https://pypi.org/project/PyPDF2/\n",
    "    PyPDF2 3.0.1\n"
   ]
  },
  {
   "cell_type": "code",
   "execution_count": 5,
   "metadata": {},
   "outputs": [
    {
     "name": "stdout",
     "output_type": "stream",
     "text": [
      "Collecting PyPDF2Note: you may need to restart the kernel to use updated packages.\n",
      "\n",
      "  Downloading pypdf2-3.0.1-py3-none-any.whl.metadata (6.8 kB)\n",
      "Downloading pypdf2-3.0.1-py3-none-any.whl (232 kB)\n",
      "   ---------------------------------------- 0.0/232.6 kB ? eta -:--:--\n",
      "   ---------------------------------------- 232.6/232.6 kB 6.9 MB/s eta 0:00:00\n",
      "Installing collected packages: PyPDF2\n",
      "Successfully installed PyPDF2-3.0.1\n"
     ]
    }
   ],
   "source": [
    "pip install PyPDF2"
   ]
  },
  {
   "cell_type": "code",
   "execution_count": 1,
   "metadata": {},
   "outputs": [],
   "source": [
    "from PyPDF2 import PdfReader"
   ]
  },
  {
   "cell_type": "code",
   "execution_count": 2,
   "metadata": {},
   "outputs": [],
   "source": [
    "# arq = \"c:/__example__.pdf\"\n",
    "reader = PdfReader(arq)\n",
    "number_of_pages = len(reader.pages)\n",
    "page_1 = reader.pages[0]                # page_N = reader.pages[N-1]\n",
    "text_page_1 = page_1.extract_text()     # text_page_N = page_N.extract_text()"
   ]
  },
  {
   "cell_type": "markdown",
   "metadata": {},
   "source": [
    "### Images and Videos\n",
    "###### https://docs.opencv.org/4.x/\n",
    "    OpenCV"
   ]
  },
  {
   "cell_type": "code",
   "execution_count": null,
   "metadata": {},
   "outputs": [],
   "source": []
  },
  {
   "cell_type": "markdown",
   "metadata": {},
   "source": [
    "### Audios"
   ]
  },
  {
   "cell_type": "code",
   "execution_count": null,
   "metadata": {},
   "outputs": [],
   "source": []
  }
 ],
 "metadata": {
  "kernelspec": {
   "display_name": "base",
   "language": "python",
   "name": "python3"
  },
  "language_info": {
   "codemirror_mode": {
    "name": "ipython",
    "version": 3
   },
   "file_extension": ".py",
   "mimetype": "text/x-python",
   "name": "python",
   "nbconvert_exporter": "python",
   "pygments_lexer": "ipython3",
   "version": "3.11.7"
  }
 },
 "nbformat": 4,
 "nbformat_minor": 2
}
